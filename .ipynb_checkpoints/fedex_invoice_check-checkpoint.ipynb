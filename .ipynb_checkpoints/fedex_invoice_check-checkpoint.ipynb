{
 "cells": [
  {
   "cell_type": "code",
   "execution_count": null,
   "id": "72dbee8c",
   "metadata": {},
   "outputs": [],
   "source": [
    "import os\n",
    "import glob\n",
    "import pandas as pd\n",
    "import numpy as np\n",
    "pd.set_option('display.max_rows', 250)\n",
    "pd.set_option('display.max_columns', 50)"
   ]
  },
  {
   "cell_type": "code",
   "execution_count": null,
   "id": "632aa91f",
   "metadata": {},
   "outputs": [],
   "source": [
    "# read in files \n",
    "extension = 'csv'\n",
    "all_filenames = [i for i in glob.glob('FedEx_invoice*.{}'.format(extension))]\n",
    "all_filenames"
   ]
  },
  {
   "cell_type": "code",
   "execution_count": null,
   "id": "d3e1d2fc",
   "metadata": {},
   "outputs": [],
   "source": [
    "# reading in df fails since a column has commas\n",
    "headers = [*pd.read_csv('FedEx_invoice_2022-01-19_04-46.csv', nrows=1)]\n",
    "headers_keep = [\"Payor\",\"Express or Ground Tracking ID\",\"Net Charge Amount\",\"Service Type\",\"Shipment Date\",\"POD Delivery Date\",\n",
    "\"Actual Weight Amount\",\"Rated Weight Amount\",\"Dim Length\",\"Dim Width\",\"Dim Height\",\"Dim Divisor\",\"Recipient Name\",\n",
    "\"Recipient Company\",\"Recipient Address Line 1\",\"Recipient Address Line 2\",\"Recipient City\",\"Recipient State\",\"Recipient Zip Code\",\n",
    "\"Shipper Company\",\"Shipper Name\",\"Shipper Address Line 1\",\"Shipper Address Line 2\",\"Shipper City\",\"Shipper State\",\n",
    "\"Shipper Zip Code\",\"Original Customer Reference\",\"Original Ref#2\",\"Original Ref#3/PO Number\",\"Zone Code\"]"
   ]
  },
  {
   "cell_type": "code",
   "execution_count": null,
   "id": "d8c07e52",
   "metadata": {},
   "outputs": [],
   "source": [
    "# append invoices to dataframe \n",
    "df_master = pd.DataFrame()\n",
    "for file in all_filenames:\n",
    "    df = pd.read_csv(file, usecols= headers_keep )\n",
    "    df_master = df_master.append(df)"
   ]
  },
  {
   "cell_type": "code",
   "execution_count": null,
   "id": "43e989d8",
   "metadata": {},
   "outputs": [],
   "source": [
    "# copy dataframe and start cleaning\n",
    "df = df_master.copy()\n",
    "\n",
    "# convert to integer \n",
    "df[['POD Delivery Date', 'Recipient Zip Code', 'Original Ref#2', 'Original Ref#3/PO Number']] = df[['POD Delivery Date', 'Recipient Zip Code', 'Original Ref#2', 'Original Ref#3/PO Number']].astype('Int64')\n",
    "  \n",
    "# convert to datetime\n",
    "from datetime import date\n",
    "today = date.today()\n",
    "d1 = int(today.strftime(\"%Y%m%d\"))\n",
    "df['POD Delivery Date'] = df['POD Delivery Date'].fillna(d1)\n",
    "df['POD Delivery Date'] = pd.to_datetime(df['POD Delivery Date'], format='%Y%m%d')\n",
    "df['Shipment Date'] = df['Shipment Date'].fillna(d1)\n",
    "df['Shipment Date'] = pd.to_datetime(df['Shipment Date'], format='%Y%m%d')"
   ]
  },
  {
   "cell_type": "code",
   "execution_count": null,
   "id": "2ae2bd90",
   "metadata": {},
   "outputs": [],
   "source": [
    "# calculate true total charge -- adjustments are added as a second line with duplicate tracking numbers\n",
    "df_tot_cost = pd.DataFrame()\n",
    "df_tot_cost['Total Cost'] = df[['Express or Ground Tracking ID', 'Net Charge Amount']].groupby(by = 'Express or Ground Tracking ID').sum()\n",
    "df_tot_cost.rename_axis(\"Express or Ground Tracking ID\")\n",
    "\n",
    "# append to DF as Total Cost\n",
    "df = pd.merge(df,df_tot_cost['Total Cost'], \n",
    "                                    on ='Express or Ground Tracking ID', how='inner')"
   ]
  },
  {
   "cell_type": "code",
   "execution_count": null,
   "id": "1c5fbb6f",
   "metadata": {},
   "outputs": [],
   "source": [
    "import seaborn as sns\n",
    "import matplotlib.pyplot as plt\n",
    "from matplotlib.pyplot import figure\n",
    "\n",
    "figure(figsize=(10, 8), dpi=80);\n",
    "\n",
    "ax1 = plt.subplot(2, 2, 1)\n",
    "HIST_BINS = np.linspace(0,50, 50)\n",
    "ax1.set_title('Actual Weight Amount')\n",
    "ax1.set_xlabel('Weight (LBS)')\n",
    "ax1.set_ylabel('Net Charge')\n",
    "ax1 = df['Actual Weight Amount'].hist(bins=HIST_BINS);\n",
    "\n",
    "ax2 = plt.subplot(2, 2, 2)\n",
    "HIST_BINS = np.linspace(0,50, 50)\n",
    "ax2.set_title('Rated Weight Amount')\n",
    "ax2.set_xlabel('Weight (LBS)')\n",
    "ax2.set_ylabel('Net Charge')\n",
    "ax2 = df['Rated Weight Amount'].hist(bins=HIST_BINS);"
   ]
  },
  {
   "cell_type": "code",
   "execution_count": null,
   "id": "fa53ee97",
   "metadata": {},
   "outputs": [],
   "source": [
    "import seaborn as sns\n",
    "import matplotlib.pyplot as plt\n",
    "from matplotlib.pyplot import figure\n",
    "\n",
    "figure(figsize=(12, 10), dpi=80);\n",
    "\n",
    "sns.scatterplot(x='Rated Weight Amount',\n",
    "               y = 'Total Cost',\n",
    "               hue = 'Service Type',\n",
    "               data = df);\n",
    "\n",
    "plt.xlim(0, 80)\n",
    "plt.ylim(0, 200)\n",
    "\n",
    "plt.legend(loc='best', bbox_to_anchor=(.7, 0., .6, 1));"
   ]
  },
  {
   "cell_type": "code",
   "execution_count": null,
   "id": "b1569373",
   "metadata": {},
   "outputs": [],
   "source": [
    "df['Total Cost'].describe()"
   ]
  },
  {
   "cell_type": "code",
   "execution_count": null,
   "id": "86b5bbd6",
   "metadata": {},
   "outputs": [],
   "source": [
    "figure(figsize=(10, 5), dpi=80);\n",
    "HIST_BINS = np.linspace(8,40, 20)\n",
    "df['Total Cost'].hist(bins=HIST_BINS, legend=True);"
   ]
  },
  {
   "cell_type": "code",
   "execution_count": null,
   "id": "cc7f8535",
   "metadata": {},
   "outputs": [],
   "source": [
    "g = sns.lmplot(x=\"Rated Weight Amount\", y=\"Total Cost\", hue=\"Service Type\", data=df,\n",
    "\n",
    "               palette=\"Set1\", height=10, legend='top right');\n",
    "\n",
    "plt.xlim(0, 80);\n",
    "plt.ylim(0, 200);"
   ]
  },
  {
   "cell_type": "code",
   "execution_count": null,
   "id": "55f682fc",
   "metadata": {},
   "outputs": [],
   "source": [
    "# Explore Data \n",
    "\n",
    "df_expore = df[df['Rated Weight Amount'] == 20]\n",
    "df_expore['Total Cost'].describe()"
   ]
  },
  {
   "cell_type": "code",
   "execution_count": null,
   "id": "c4299ce1",
   "metadata": {},
   "outputs": [],
   "source": [
    "# to csv\n",
    "df.to_csv('expore.csv', header=True, index=False)"
   ]
  }
 ],
 "metadata": {
  "kernelspec": {
   "display_name": "Python 3 (ipykernel)",
   "language": "python",
   "name": "python3"
  },
  "language_info": {
   "codemirror_mode": {
    "name": "ipython",
    "version": 3
   },
   "file_extension": ".py",
   "mimetype": "text/x-python",
   "name": "python",
   "nbconvert_exporter": "python",
   "pygments_lexer": "ipython3",
   "version": "3.8.12"
  }
 },
 "nbformat": 4,
 "nbformat_minor": 5
}
